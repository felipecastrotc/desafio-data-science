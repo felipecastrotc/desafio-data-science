{
 "cells": [
  {
   "cell_type": "markdown",
   "metadata": {},
   "source": [
    "# Descrição do banco de dados\n",
    "\n",
    "O banco de dados [bank.zip](https://archive.ics.uci.edu/ml/machine-learning-databases/00222/bank.zip) possui as seguintes caracterísicas:\n",
    "\n",
    "* Área: Negócios;\n",
    "* Número de atributos: 17;\n",
    "* Número de amostras: 45211;\n",
    "* Tipos de variáveis: categórica, binária e inteiro;\n",
    "\n",
    "O banco de dados está relacionado a uma capanha de marketing, baseada em ligações, de um banco português. Os atributos do banco de dados incluem dados pessoais dos clientes do banco como:\n",
    "\n",
    "* Idade - *inteiro*;\n",
    "* Trabalho - *categórica*;\n",
    "* Estado civil - *categórica*;\n",
    "* Escolaridade - *categórica*;\n",
    "* Dívidas - *categórica*;\n",
    "* Empréstimo imobiliário - *categórica*;\n",
    "* Empréstimo - *categórica*.\n",
    "\n",
    "Além desses dados, tem-se também os dados e resultados da campanha de marketing atual como:\n",
    "\n",
    "* Forma de contato - *categórica*;\n",
    "* Mês do último contato - *categórica*;\n",
    "* Dia da semana do contato - *categórica*;\n",
    "* Duração da ligação - *inteiro*;\n",
    "* Número de contatos - *inteiro*;\n",
    "* Intervalo do contato entre campanhas - *inteiro*;\n",
    "* Resultado da capanha - *binária*.\n",
    "\n",
    "Por fim, tem-se duas informações da camapanha anterior como:\n",
    "\n",
    "* Resultado da capanha - *categórica*;\n",
    "* Número de contatos - *inteiro*.\n"
   ]
  },
  {
   "cell_type": "markdown",
   "metadata": {},
   "source": [
    "# Questões\n",
    "\n",
    "O desafio proposto é composto por 6 questões. Os códigos utilizados para o obter o resultados de cada questão são apresentados juntamente com as questões. \n",
    "\n",
    "## Obtendo e organizando o banco de dados\n",
    "\n",
    "Antes do desenvolvimento das questões é necessário importar as bibliotecas relevantes, baixar, organizar e preprocessar os dados para fazer as análises, estes procedimentos são executados abaixo."
   ]
  },
  {
   "cell_type": "code",
   "execution_count": 1,
   "metadata": {},
   "outputs": [],
   "source": [
    "import os\n",
    "import numpy as np\n",
    "import pandas as pd\n",
    "import scipy.stats as st\n",
    "import urllib.request as ur\n",
    "import matplotlib.pyplot as plt\n",
    "import sklearn.feature_selection as fs\n",
    "from zipfile import ZipFile\n",
    "\n",
    "\n",
    "# Especificações do banco de dados.\n",
    "url = \\\n",
    "    'https://archive.ics.uci.edu/ml/machine-learning-databases/00222/bank.zip'\n",
    "dataset = 'bank-full.csv'\n",
    "\n",
    "# Armazenamento do banco de dados\n",
    "path_ext = 'data'\n",
    "file = 'data.zip'\n",
    "\n",
    "path_data = os.path.relpath(os.getcwd())\n",
    "path_data = os.path.join(path_data, path_ext)\n",
    "path_file = os.path.join(path_data, file)\n",
    "\n",
    "if not os.path.exists(path_data):\n",
    "    os.mkdir(path_data)\n",
    "\n",
    "ur.urlretrieve(url, path_file)\n",
    "with ZipFile(path_file) as zfile:\n",
    "    zfile.extractall(path_data)\n",
    "\n",
    "# Importar o banco de dados como um Dataframe Pandas\n",
    "df = pd.read_csv(os.path.join(path_data, dataset), ';')\n",
    "\n",
    "if df.isnull().values.any():\n",
    "    print('Removendo linhas com NaN.')\n",
    "    df = df.dropna()\n",
    "\n",
    "# Converte as colunas do tipo 'object' para 'categorical'\n",
    "df_obj = df.select_dtypes(include=['object'])\n",
    "for col in df_obj.columns:\n",
    "    df[col] = df[col].astype('category')"
   ]
  },
  {
   "cell_type": "markdown",
   "metadata": {},
   "source": [
    "## Questão 1\n",
    "\n",
    "Questão: *Qual profissão tem mais tendência a fazer um empréstimo? De qual tipo?*\n",
    "\n",
    "Nesta questão foi considerado como empréstimo tanto o empréstimo imobiliário quanto o empréstimo. Primeiramente, obteve-se o percentual de pessoas que têm qualquer tipo de empréstimo por profissão. Este resultado é apresentdo no gráfico abaixo."
   ]
  },
  {
   "cell_type": "code",
   "execution_count": 2,
   "metadata": {},
   "outputs": [
    {
     "data": {
      "image/png": "[encoded data removed]",
      "text/plain": [
       "<Figure size 432x288 with 1 Axes>"
      ]
     },
     "metadata": {},
     "output_type": "display_data"
    }
   ],
   "source": [
    "# Colunas para análise\n",
    "cols = ['housing', 'loan']\n",
    "\n",
    "# Obtêm-se a ocorrências de empréstimo por profissão\n",
    "msk = (df[cols] == 'yes').sum(axis=1) > 0\n",
    "loan_y = df['job'][msk]\n",
    "loan_n = df['job'][~msk]\n",
    "\n",
    "jobs = df['job'].value_counts()\n",
    "loan_y = loan_y.value_counts()\n",
    "loan_n = loan_n.value_counts()\n",
    "\n",
    "# Normaliza-se os dados\n",
    "idx = jobs.index\n",
    "loan_yn = loan_y[idx] / jobs\n",
    "loan_nn = loan_n[idx] / jobs\n",
    "\n",
    "# Organiza-se os dados\n",
    "loan_yn = loan_yn.sort_values(ascending=False)*100\n",
    "idx = loan_yn.index\n",
    "loan_nn = loan_nn[idx]*100\n",
    "\n",
    "loan_y = loan_y[idx]\n",
    "loan_n = loan_n[idx]\n",
    "\n",
    "# Gera-se o gráfico\n",
    "plt.bar(loan_yn.index, loan_yn)\n",
    "plt.bar(loan_nn.index, loan_nn, bottom=loan_yn)\n",
    "plt.grid(True, alpha=0.5)\n",
    "plt.legend(['Possui', 'Não possui'])\n",
    "plt.xticks(rotation=45, ha='right')\n",
    "plt.xlabel('Profissão')\n",
    "plt.ylabel('Percentual (%)')\n",
    "plt.title('Empréstimos por profissão')\n",
    "plt.show()"
   ]
  },
  {
   "cell_type": "markdown",
   "metadata": {},
   "source": [
    "Como pode-se observar a profissão que tem a maior tendência em fazer empréstimo são profissionais colarinho azul (blue-collar). Destes profissionais cerca de 78% possui algum tipo de empréstimo. \n",
    "\n",
    "Por fim, obtêm-se o número de empréstimos de cada tipo dessa profissão."
   ]
  },
  {
   "cell_type": "code",
   "execution_count": 3,
   "metadata": {},
   "outputs": [
    {
     "name": "stdout",
     "output_type": "stream",
     "text": [
      "Número de empréstimos:\n",
      "Imobiliário: 7048\n",
      "Empréstimo: 1684\n"
     ]
    }
   ],
   "source": [
    "# Obtêm-se o número de cada tipo de empréstimo por profissão\n",
    "loan_h = df['job'][df['housing'] == 'yes'].value_counts()\n",
    "loan_l = df['job'][df['loan'] == 'yes'].value_counts()\n",
    "\n",
    "print('Número de empréstimos:')\n",
    "print( 'Imobiliário: {}'.format(loan_h[idx[0]]))\n",
    "print( 'Empréstimo: {}'.format(loan_l[idx[0]]))"
   ]
  },
  {
   "cell_type": "markdown",
   "metadata": {},
   "source": [
    "Dessa forma, temos que essa profissão tem tendência a fazer empréstimos imobiliários."
   ]
  },
  {
   "cell_type": "markdown",
   "metadata": {},
   "source": [
    "## Questão 2\n",
    "\n",
    "Questão: *Fazendo uma relação entre número de contatos e sucesso da campanha quais são os pontos relevantes a serem observados?*\n",
    "\n",
    "Nesta questão foi considerado o número de contatos e o sucesso da campanha atual. O sucesso neste caso foi considerado quando o cliente assina o termo de adesão. Assim, para verificar se há uma relação entre o número de contato e o sucesso na campanha, foi gerado um gráfico de barras onde mostra o percentual do sucesso e insucesso para cada número de ligações. O gráfico é mostrado abaixo."
   ]
  },
  {
   "cell_type": "code",
   "execution_count": 4,
   "metadata": {},
   "outputs": [
    {
     "data": {
      "image/png": "[encoded data removed]",
      "text/plain": [
       "<Figure size 432x288 with 1 Axes>"
      ]
     },
     "metadata": {},
     "output_type": "display_data"
    }
   ],
   "source": [
    "# Obtêm-se o sucesso e o insucesso da campanha por número\n",
    "# de ligações\n",
    "success = df[df['y'] == 'yes']['campaign']\n",
    "fail = df[df['y'] == 'no']['campaign']\n",
    "\n",
    "n = df['campaign'].value_counts()\n",
    "success = success.value_counts()\n",
    "fail = fail.value_counts()\n",
    "\n",
    "# Normaliza-se os dados\n",
    "idx = n.index.sort_values()\n",
    "n = n[idx]\n",
    "success_n = success.reindex(idx, fill_value=0) / n\n",
    "fail_n = fail.reindex(idx, fill_value=0) / n\n",
    "\n",
    "success_n *= 100\n",
    "fail_n *= 100\n",
    "\n",
    "# Gera-se o gráfico\n",
    "plt.bar(success_n.index, success_n)\n",
    "plt.bar(fail_n.index, fail_n, bottom=success_n)\n",
    "plt.grid(True, alpha=0.5)\n",
    "plt.legend(['Sucesso', 'Insucesso'])\n",
    "plt.xlabel('Número de ligações (-)')\n",
    "plt.ylabel('Percentual (%)')\n",
    "plt.title('Sucesso na campanha por número de ligações')\n",
    "plt.show()"
   ]
  },
  {
   "cell_type": "markdown",
   "metadata": {},
   "source": [
    "Como pode-se observar, de forma geral o percentual reduz a medida que o número de ligações aumenta. Além disso, observa-se também um aumento do sucesso a medida que o número de contato aumenta acima de 20 ligações. Contudo, nestes casos há apenas uma amostra que resultou em sucesso para cada caso. Portanto, devido ao número de amostragem, para esses casos não é possível afirmar com certeza se essa tendência se repetiriria caso houvesse um maior número de amostras.\n",
    "\n",
    "Além disso, observa-se pelo percentual de insucesso que de forma geral não houve sucesso nos casos em que o número de contato superou 18 ligações. Portanto, não justificaria continuar entrando em contato acima desse número de ligações."
   ]
  },
  {
   "cell_type": "markdown",
   "metadata": {},
   "source": [
    "## Questão 3\n",
    "\n",
    "Questão: *Baseando-se nos resultados de adesão desta campanha qual o número médio e o máximo de ligações que você indica para otimizar a adesão?*\n",
    "\n",
    "Como análise incial foi feita o histograma cumulativo, apresentado abaixo, entre o número de contatos e o sucesso da campanha. Além disso, também é mostrado o número médio de ligações."
   ]
  },
  {
   "cell_type": "code",
   "execution_count": 5,
   "metadata": {},
   "outputs": [
    {
     "name": "stdout",
     "output_type": "stream",
     "text": [
      "Número médio de ligações: 2.14\n"
     ]
    },
    {
     "data": {
      "image/png": "[encoded data removed]",
      "text/plain": [
       "<Figure size 432x288 with 1 Axes>"
      ]
     },
     "metadata": {},
     "output_type": "display_data"
    }
   ],
   "source": [
    "# Obtêm-se o sucesso campanha por número de ligações\n",
    "contact = df[df['y'] == 'yes']['campaign']\n",
    "contact_counts = contact.value_counts()\n",
    "\n",
    "print('Número médio de ligações: {:.2f}'.format(contact.mean()))\n",
    "\n",
    "# Gera-se o gráfico\n",
    "plt.hist(contact, bins=contact_counts.shape[0],\n",
    "         cumulative=True, density=1)\n",
    "plt.grid(True, alpha=0.5)\n",
    "plt.xlabel('Número de contatos (-)')\n",
    "plt.ylabel('Probabilidade de ocorrência (-)')\n",
    "plt.title('Histograma cumulativo')\n",
    "plt.show()"
   ]
  },
  {
   "cell_type": "markdown",
   "metadata": {},
   "source": [
    "Pode-se observar no histograma cumulativo que a maior parte dos casos que obtiveram sucesso tiveram um número de ligações inferior a 11 ligações, que corresponde a 99.11% dos casos. Portanto, indicaria o número máximo de 10 ligações. Já o número médio de ligações que recomendaria seria de 5 ligações, que corresponde a 95.21% dos casos de sucesso.\n",
    "\n",
    "Contudo, para se obter um número de ligações ótimo, o ideal é que se tivesse ao menos o custo referente a cada ligação e se há uma duração da campanha. Assim, seria possível estimar mais precisamente qual seria o número de ligações ótimo. Uma vez que seria considerado o gasto e o retorno do possível cliente. Também, caso a campanha tenha uma duração limitada, o tempo gasto fazer múltiplas ligações para um mesmo cliente pode limitar o alcance da campanha, já que poderia-se estar ligando para outros clientes diferentes e obtendo a adesão destes."
   ]
  },
  {
   "cell_type": "markdown",
   "metadata": {},
   "source": [
    "## Questão 4\n",
    "\n",
    "Questão: *O resultado da campanha anterior tem relevância na campanha atual?*\n",
    "\n",
    "Para analisar se o resultado da campanha anterior tem alguma relevância na campanha atual, obteve-se os casos em que houve sucesso na campanha anterior e cotrastou-se com os casos que obteve-se sucesso na campanha atual. O resultado é mostrado no gráfico abaixo."
   ]
  },
  {
   "cell_type": "code",
   "execution_count": 6,
   "metadata": {},
   "outputs": [
    {
     "data": {
      "image/png": "[encoded data removed]",
      "text/plain": [
       "<Figure size 432x288 with 1 Axes>"
      ]
     },
     "metadata": {},
     "output_type": "display_data"
    }
   ],
   "source": [
    "# Obtêm-se os casos que obtiveram sucesso na campanha anterior\n",
    "success_y = df[df['poutcome'] == 'success']['y']\n",
    "success_y = success_y.value_counts()\n",
    "\n",
    "# Normaliza-se os dados\n",
    "success_yn = success_y / success_y.sum()\n",
    "success_yn *= 100\n",
    "\n",
    "# Gera-se o gráfico\n",
    "bar = plt.bar(success_yn.index, success_yn)\n",
    "bar[1].set_color('orange')\n",
    "plt.grid(True, alpha=0.5)\n",
    "plt.xlabel('Percentual (%)')\n",
    "plt.ylabel('Sucesso na campanha atual (-)')\n",
    "plt.title('Relação entre a campanha atual e anteior')\n",
    "plt.show()"
   ]
  },
  {
   "cell_type": "markdown",
   "metadata": {},
   "source": [
    "Pode-se observar no gráfico acima que aproximadamente 65% dos casos em que obteve-se sucesso na campanha anterior também se obteve sucesso na campanha atual. Este resultado indica que há uma tendência entre clientes que aceitaram uma proposta no passado em aceitar uma nova no futuro. Este resultado portanto pode ser utilizado para otimizar as ligações em futuras campanhas, priorizando clientes que já aceitaram o serviço anteiormente."
   ]
  },
  {
   "cell_type": "markdown",
   "metadata": {},
   "source": [
    "## Questão 5\n",
    "\n",
    "Questão: *Qual o fator determinante para que o banco exija um seguro de crédito?*\n",
    "\n",
    "Para obter o fator que está mais relacionado a dívida do cliente e portanto exigir um seguro de crédito, foi selecionado apenas os dados pessoais do cliente. Assim, será possível obter uma característica mesmo se não houver dados do cliente referente a campanhas atuais ou anteriores.\n",
    "\n",
    "Ao todo tem-se 7 dados pessoais dos clientes, portanto, para não ter que analisar cada dado separadamente, foi utilizado um *wrapper* que seleciona as características que apresenta os maiores valores *k*, com as funções de avaliação *ANOVA F-value* e *Mutual information*. Nesse caso foi escolhido apenas o maior valor."
   ]
  },
  {
   "cell_type": "code",
   "execution_count": 7,
   "metadata": {},
   "outputs": [
    {
     "name": "stdout",
     "output_type": "stream",
     "text": [
      "ANOVA F-value: loan\n",
      "Mutual information: balance\n"
     ]
    }
   ],
   "source": [
    "# Seleciona-se os dados dos clientes\n",
    "client_data = [\n",
    "    'age',\n",
    "    'job',\n",
    "    'marital',\n",
    "    'education',\n",
    "    'balance',\n",
    "    'housing',\n",
    "    'loan',\n",
    "]\n",
    "\n",
    "# Seleciona-se o dado desejado\n",
    "target_col = ['default']\n",
    "\n",
    "# Transforma as variáveis do tipo 'string' para 'inteiro'\n",
    "X = df[client_data].apply(lambda x: (x.cat.codes if x.dtype.name\n",
    "                                     is 'category' else x))\n",
    "Y = df[target_col].apply(lambda x: (x.cat.codes if x.dtype.name\n",
    "                                    is 'category' else x))\n",
    "\n",
    "# Obtêm-se as duas melhores características de cada  função de avaliação\n",
    "X_f_class = fs.SelectKBest(fs.f_classif, k=1).fit(X, Y[target_col[0]])\n",
    "X_mutual = fs.SelectKBest(fs.mutual_info_classif, k=1).fit(X, Y[target_col[0]])\n",
    "\n",
    "f_class = X.columns.values[X_f_class.get_support()][0]\n",
    "mutual = X.columns.values[X_mutual.get_support()][0]\n",
    "\n",
    "print('ANOVA F-value: {}'.format(f_class))\n",
    "print('Mutual information: {}'.format(mutual))"
   ]
  },
  {
   "cell_type": "markdown",
   "metadata": {},
   "source": [
    "Apesar das funções de avaliações resultarem e características distintas, a segunda melhor caracterítica para a função *ANOVA F-value* foi também o saldo do cliente. Dessa forma, será analisado os dois casos separadamente.\n",
    "\n",
    "Primeiramente para analisar se existe de fato uma relação, foi feito o teste de chi-quadrado para avaliar a indepêndencia dos casos em que o cliente tem dívida e também tem empréstimo."
   ]
  },
  {
   "cell_type": "code",
   "execution_count": 8,
   "metadata": {},
   "outputs": [
    {
     "name": "stdout",
     "output_type": "stream",
     "text": [
      "Chi-quadrado: 264.83\n",
      "P-valor: 0.0000\n"
     ]
    }
   ],
   "source": [
    "# Seleciona-se dados referente ao empréstimo\n",
    "col = 'loan'\n",
    "x = df[col].value_counts()\n",
    "y = df[col][df['default'] == 'yes'].value_counts()\n",
    "z = df[col][df['default'] == 'no'].value_counts()\n",
    "\n",
    "# Calcula-se o chi-quadrado\n",
    "chi, p, = st.chisquare(y, y.sum() * x[y.index] / x.sum())\n",
    "print('Chi-quadrado: {:.2f}'.format(chi))\n",
    "print('P-valor: {:.4f}'.format(p))"
   ]
  },
  {
   "cell_type": "markdown",
   "metadata": {},
   "source": [
    "Como o P-valor obtido foi aproximadamente 0, temos que os casos são independente. Pode-se então avaliar a relação entre os clientes que possuem dívida e também empréstimo."
   ]
  },
  {
   "cell_type": "code",
   "execution_count": 9,
   "metadata": {},
   "outputs": [
    {
     "name": "stdout",
     "output_type": "stream",
     "text": [
      "Possui empréstimo: 36.93%\n",
      "Não possui empréstimo: 63.07%\n",
      "Possui empréstimo e tem dívida: 4.16%\n"
     ]
    }
   ],
   "source": [
    "percent = (y / y.sum())*100\n",
    "print('Possui empréstimo: {:.2f}%'.format(percent['yes']))\n",
    "print('Não possui empréstimo: {:.2f}%'.format(percent['no']))\n",
    "\n",
    "z = df['default'][df[col] == 'yes'].value_counts()\n",
    "percent_d = (z / z.sum())*100\n",
    "print('Possui empréstimo e tem dívida: {:.2f}%'.format(percent_d['yes']))"
   ]
  },
  {
   "cell_type": "markdown",
   "metadata": {},
   "source": [
    "Observa-se que cerca de 37% dos clientes que possuem dívida também possuem empréstimo. Contudo, apenas aproximadamente 4% dos clientes que possuem empréstimo tem dívida. Portanto, a dívida não é um fator determinante. \n",
    "\n",
    "Para analisar o saldo do cliente foi feito um histograma do saldo dos clientes que possuem dívida e um outro para os que não possuem dívidas. Os histogramas são apresentados abaixo."
   ]
  },
  {
   "cell_type": "code",
   "execution_count": 10,
   "metadata": {},
   "outputs": [
    {
     "data": {
      "image/png": "[encoded data removed]",
      "text/plain": [
       "<Figure size 432x288 with 1 Axes>"
      ]
     },
     "metadata": {},
     "output_type": "display_data"
    }
   ],
   "source": [
    "# Seleciona-se dados referente a profissão\n",
    "col = 'balance'\n",
    "yes = df[col][df['default'] == 'yes']\n",
    "no = df[col][df['default'] == 'no']\n",
    "\n",
    "# Gera-se o gráfico\n",
    "plt.hist(yes, bins=100, density=True)\n",
    "plt.hist(no, bins=100, density=True, alpha=0.5)\n",
    "plt.ylim([0, 6e-4])\n",
    "plt.xlim([-4057, 20000])\n",
    "plt.grid(True, alpha=0.5)\n",
    "plt.legend(['Possui', 'Não possui'])\n",
    "plt.xlabel('Saldo (€)')\n",
    "plt.ylabel('Probabilidade de ocorrência (-)')\n",
    "plt.title('Histogramas dos saldos')\n",
    "plt.show()"
   ]
  },
  {
   "cell_type": "markdown",
   "metadata": {},
   "source": [
    "Pode-se observar nos histogramas acima, as distribuições dos saldos para os casos que possuem e não possuem dívida são diferentes. Onde no caso dos que possuem dívida a distribuição está mais deslocada para e esquerda, saldo negativo, do que os que não possuem, mais deslocada a direita, saldo positivo. Dessa forma tem-se que a mediana das distibuições são perceptivelmente diferentes. Além disso, de forma geral o saldo dos clientes que não possuem dívidas são maiores dos que possuem.\n",
    "\n",
    "Como a mediana dos dois casos são sensivelmente diferentes, este pode ser um critério para se avaliar para exigir ou não um seguro de crédito. Abaixo, avalia-se caso este critério fosse usado."
   ]
  },
  {
   "cell_type": "code",
   "execution_count": 11,
   "metadata": {},
   "outputs": [
    {
     "name": "stdout",
     "output_type": "stream",
     "text": [
      "Mediana do saldo dos que possuem dívida: €-7.0\n",
      "Mediana do saldo dos que não possuem dívida: €468.0\n",
      "Percentual dos que possuem dívida e saldo maior que €468.0: 5.52%\n",
      "Percentual dos que não possuem dívida e saldo menor que €468.0: 49.98%\n"
     ]
    }
   ],
   "source": [
    "print('Mediana do saldo dos que possuem dívida: €{}'.format(yes.median()))\n",
    "print('Mediana do saldo dos que não possuem dívida: €{}'.format(no.median()))\n",
    "\n",
    "lim = no.median()\n",
    "percent_y = (np.sum(yes > lim) / yes.shape[0]) * 100\n",
    "percent_n = (np.sum(no < lim) / no.shape[0]) * 100\n",
    "\n",
    "text_y = 'Percentual dos que possuem dívida e saldo maior que'\n",
    "text_n = 'Percentual dos que não possuem dívida e saldo menor que'\n",
    "print(text_y + ' €{}: {:.2f}%'.format(lim, percent_y))\n",
    "print(text_n + ' €{}: {:.2f}%'.format(lim, percent_n))"
   ]
  },
  {
   "cell_type": "markdown",
   "metadata": {},
   "source": [
    "Assim, tem-se que o saldo do cliente é um fator determinante para exigir o seguro de crédito."
   ]
  },
  {
   "cell_type": "markdown",
   "metadata": {},
   "source": [
    "## Questão 6\n",
    "\n",
    "Questão: *Quais são as características mais proeminentes de um cliente que possua\n",
    "empréstimo imobiliário?*\n",
    "\n",
    "O metodologia para obter essas características é semelhante a descrita e utilizada na Questão 5. Ou seja, para não ter que analisar cada dado separadamente, foi utilizado o mesmo *wrapper* da Questão 5, com as mesmas funções de avaliação. Além disso, também foi usado teste de chi-quadrado para avaliar para avaliar a indepêndencia dos casos estudados.\n",
    "\n",
    "De forma semelhante a Questão 5 foi selecionado apenas os dados pessoais do cliente para se obter uma característica que independe da campanha atual ou anteior. Assim, obtêm-se duas características utilizando o *wrapper* que serão avaliadas inicialmente."
   ]
  },
  {
   "cell_type": "code",
   "execution_count": 12,
   "metadata": {},
   "outputs": [
    {
     "name": "stdout",
     "output_type": "stream",
     "text": [
      "ANOVA F-value: age\n",
      "Mutual information: job\n"
     ]
    }
   ],
   "source": [
    "# Seleciona-se os dados dos clientes\n",
    "client_data = [\n",
    "    'age',\n",
    "    'job',\n",
    "    'marital',\n",
    "    'education',\n",
    "    'default',\n",
    "    'balance',\n",
    "    'loan',\n",
    "]\n",
    "\n",
    "# Seleciona-se o dado desejado\n",
    "target_col = ['housing']\n",
    "\n",
    "# Transforma as variáveis do tipo 'string' para 'inteiro'\n",
    "X = df[client_data].apply(lambda x: (x.cat.codes if x.dtype.name\n",
    "                                     is 'category' else x))\n",
    "Y = df[target_col].apply(lambda x: (x.cat.codes if x.dtype.name\n",
    "                                    is 'category' else x))\n",
    "\n",
    "# Obtêm-se as duas melhores características de cada  função de avaliação\n",
    "X_f_class = fs.SelectKBest(fs.f_classif, k=1).fit(X, Y[target_col[0]])\n",
    "X_mutual = fs.SelectKBest(fs.mutual_info_classif, k=1).fit(X, Y[target_col[0]])\n",
    "\n",
    "f_class = X.columns.values[X_f_class.get_support()]\n",
    "mutual = X.columns.values[X_mutual.get_support()]\n",
    "\n",
    "print('ANOVA F-value: {}'.format(f_class[0]))\n",
    "print('Mutual information: {}'.format(mutual[0]))"
   ]
  },
  {
   "cell_type": "markdown",
   "metadata": {},
   "source": [
    "Cada função de avaliação resultou em uma característica distinta que serão analisadas. Fez-se então o teste de independência chi-quadrado para profissão. Em seguida é mostrado em um gráfico de barras o percentual de cada profissão que possui e não possui um empréstimo imobiliário."
   ]
  },
  {
   "cell_type": "code",
   "execution_count": 13,
   "metadata": {},
   "outputs": [
    {
     "name": "stdout",
     "output_type": "stream",
     "text": [
      "Chi-quadrado: 1593.98\n",
      "P-valor: 0.0000\n"
     ]
    },
    {
     "data": {
      "image/png": "[encoded data removed]",
      "text/plain": [
       "<Figure size 432x288 with 1 Axes>"
      ]
     },
     "metadata": {},
     "output_type": "display_data"
    }
   ],
   "source": [
    "# Seleciona-se dados referente a profissão\n",
    "col = 'job'\n",
    "x = df[col].value_counts()\n",
    "y = df[col][df['housing'] == 'yes'].value_counts()\n",
    "z = df[col][df['housing'] == 'no'].value_counts()\n",
    "\n",
    "# Calcula-se o chi-quadrado\n",
    "chi, p, = st.chisquare(y, y.sum() * x[y.index] / x.sum())\n",
    "print('Chi-quadrado: {:.2f}'.format(chi))\n",
    "print('P-valor: {:.4f}'.format(p))\n",
    "\n",
    "# Normaliza-se os dados\n",
    "y_norm = (y / x[y.index]).sort_values(ascending=False)\n",
    "z_norm = (z / x[z.index])[y_norm.index]\n",
    "\n",
    "y_norm *= 100\n",
    "z_norm *= 100\n",
    "\n",
    "# Gera-se o gráfico\n",
    "plt.bar(y_norm.index, y_norm)\n",
    "plt.bar(z_norm.index, z_norm, bottom=y_norm)\n",
    "plt.grid(True, alpha=0.5)\n",
    "plt.legend(['Possui', 'Não possui'])\n",
    "plt.xticks(rotation=45, ha='right')\n",
    "plt.xlabel('Profissão')\n",
    "plt.ylabel('Percentual (%)')\n",
    "plt.title('Empréstimos por profissão')\n",
    "plt.show()"
   ]
  },
  {
   "cell_type": "markdown",
   "metadata": {},
   "source": [
    "Tem-se que o P-valor é próximo de 0, portanto tem-se que os casos são independentes. Como pode-se observar, a profissão que mais faz empréstimos imobiliários é de colarinho azul, seguida de serviços e administração. Tem-se também que aposentados estudantes e empregadas domésticas são os que possuem menor percentual de empréstimo imobiliário.\n",
    "\n",
    "Já para o caso da idade das pessoas foi feito um histograma cumulativo para avaliar quais idades fazem mais empréstimo imobiliário. Em seguida é calculado a média de idade que possui e não possui empréstimo imobiliário."
   ]
  },
  {
   "cell_type": "code",
   "execution_count": 14,
   "metadata": {},
   "outputs": [
    {
     "data": {
      "image/png": "[encoded data removed]",
      "text/plain": [
       "<Figure size 432x288 with 1 Axes>"
      ]
     },
     "metadata": {},
     "output_type": "display_data"
    },
    {
     "name": "stdout",
     "output_type": "stream",
     "text": [
      "Idade média:\n",
      "* Possui empréstimo: 39.18 anos\n",
      "* Não possui empréstimo: 43.14 anos\n"
     ]
    }
   ],
   "source": [
    "# Seleciona-se dados referente a idade\n",
    "col = 'age'\n",
    "x = df[col]\n",
    "yes = df[col][df['housing'] == 'yes']\n",
    "no = df[col][df['housing'] == 'no']\n",
    "\n",
    "# Gera-se o gráfico\n",
    "plt.hist(yes, bins=20, density=True, cumulative=True)\n",
    "plt.hist(no, bins=20, density=True, cumulative=True)\n",
    "plt.grid(True, alpha=0.5)\n",
    "plt.legend(['Possui', 'Não possui'])\n",
    "plt.xlabel('Idade (anos)')\n",
    "plt.ylabel('Probabilidade de ocorrência (-)')\n",
    "plt.title('Histograma cumulativo')\n",
    "plt.show()\n",
    "\n",
    "# Obtêm-se a idade média\n",
    "print('Idade média:')\n",
    "print('* Possui empréstimo: {:.2f} anos'.format(yes.mean()))\n",
    "print('* Não possui empréstimo: {:.2f} anos'.format(no.mean()))"
   ]
  },
  {
   "cell_type": "markdown",
   "metadata": {},
   "source": [
    "Observa-se no histograma cumulativo acima que pessoas mais jovens tendem a fazer mais empréstimo do que pessoas mais velhas, como evidenciado pelo cálculo da média dos dois casos. Além disso, observa-se no histograma cerca de 80% das pessoas que fazem empréstimo imobiliário têm idade inferior a 45 anos e cerca de 50% das pessoas têm idade inferior 34 anos.\n",
    "\n",
    "Por fim, foi avaliado também uma tercerira característica, escolaridade, que apresentou uma ligeira diferença entre os casos que possui ou não um empréstimo imobiliário. Foi feito o mesmo procedimento utilizado no caso da profissão. Os resultados são apresentados abaixo."
   ]
  },
  {
   "cell_type": "code",
   "execution_count": 15,
   "metadata": {},
   "outputs": [
    {
     "name": "stdout",
     "output_type": "stream",
     "text": [
      "Chi-quadrado: 285.99\n",
      "P-valor: 0.0000\n"
     ]
    },
    {
     "data": {
      "image/png": "[encoded data removed]",
      "text/plain": [
       "<Figure size 432x288 with 1 Axes>"
      ]
     },
     "metadata": {},
     "output_type": "display_data"
    }
   ],
   "source": [
    "# Seleciona-se dados referente a escolaridade\n",
    "col = 'education'\n",
    "x = df[col].value_counts()\n",
    "y = df[col][df['housing'] == 'yes'].value_counts()\n",
    "z = df[col][df['housing'] == 'no'].value_counts()\n",
    "\n",
    "# Calcula-se o chi-quadrado\n",
    "chi, p, = st.chisquare(y, y.sum() * x[y.index] / x.sum())\n",
    "print('Chi-quadrado: {:.2f}'.format(chi))\n",
    "print('P-valor: {:.4f}'.format(p))\n",
    "\n",
    "# Normaliza-se os dados\n",
    "y_norm = (y / x[y.index]).sort_values(ascending=False)\n",
    "z_norm = (z / x[z.index])[y_norm.index]\n",
    "\n",
    "# Gera-se o gráfico\n",
    "plt.bar(y_norm.index, y_norm)\n",
    "plt.bar(z_norm.index, z_norm, bottom=y_norm)\n",
    "plt.grid(True, alpha=0.5)\n",
    "plt.legend(['Possui', 'Não possui'])\n",
    "plt.xticks(rotation=45, ha='right')\n",
    "plt.xlabel('Nível de escolaridade')\n",
    "plt.ylabel('Percentual (%)')\n",
    "plt.title('Empréstimos por nível de escolaridade')\n",
    "plt.show()"
   ]
  },
  {
   "cell_type": "markdown",
   "metadata": {},
   "source": [
    "Tem-se que o P-valor é próximo de 0, portanto tem-se que os casos são independentes. Como pode-se observar no gráfico de barras, mais da metade das pessoas que não possuem graduação tem empréstimo imobiliário. Enquanto que cerca de 44% das pessoas com graduação possui.\n",
    "\n",
    "Desssa forma, as características mais proeminente de um cliente que possui um empréstimo imobiliário é um cliente que não possui graduação tem uma idade inferior a 45 anos e tem uma profissão de colarinho azul."
   ]
  }
 ],
 "metadata": {
  "kernelspec": {
   "display_name": "Python 3",
   "language": "python",
   "name": "python3"
  },
  "language_info": {
   "codemirror_mode": {
    "name": "ipython",
    "version": 3
   },
   "file_extension": ".py",
   "mimetype": "text/x-python",
   "name": "python",
   "nbconvert_exporter": "python",
   "pygments_lexer": "ipython3",
   "version": "3.6.5"
  }
 },
 "nbformat": 4,
 "nbformat_minor": 2
}
